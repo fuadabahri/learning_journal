{
 "cells": [
  {
   "cell_type": "markdown",
   "id": "a900198b",
   "metadata": {},
   "source": [
    "## Kelvin to Celcius"
   ]
  },
  {
   "cell_type": "code",
   "execution_count": 6,
   "id": "f9a9612c",
   "metadata": {},
   "outputs": [
    {
     "name": "stdout",
     "output_type": "stream",
     "text": [
      "This function will convert kelvin to celcius \n",
      "Insert °K = 300\n",
      "300 °K =  26.85 °C\n"
     ]
    },
    {
     "data": {
      "text/plain": [
       "26.850000000000023"
      ]
     },
     "execution_count": 6,
     "metadata": {},
     "output_type": "execute_result"
    }
   ],
   "source": [
    "# Function kelvin to celcius is here\n",
    "def ktoc(kelvin):\n",
    "    celcius = kelvin-273.15\n",
    "    print(kelvin,u\"\\N{DEGREE SIGN}\"\"K = \",round(celcius,2),u\"\\N{DEGREE SIGN}\"\"C\")    \n",
    "    return celcius\n",
    "\n",
    "# Call function kelvin to celcius\n",
    "ktoc(int(input(\"This function will convert kelvin to celcius \\nInsert \"u\"\\N{DEGREE SIGN}\"\"K = \")))"
   ]
  },
  {
   "cell_type": "markdown",
   "id": "f042ef2c",
   "metadata": {},
   "source": [
    "## Celcius to Kelvin"
   ]
  },
  {
   "cell_type": "code",
   "execution_count": 7,
   "id": "6ce46f1f",
   "metadata": {},
   "outputs": [
    {
     "name": "stdout",
     "output_type": "stream",
     "text": [
      "This function will convert celcius to kelvin \n",
      "Insert °C = 300\n",
      "300 °C =  573.15 °K\n"
     ]
    },
    {
     "data": {
      "text/plain": [
       "573.15"
      ]
     },
     "execution_count": 7,
     "metadata": {},
     "output_type": "execute_result"
    }
   ],
   "source": [
    "# Function celcius to kelvin is here\n",
    "def ctok(celcius):\n",
    "    kelvin = celcius+273.15\n",
    "    print(celcius,u\"\\N{DEGREE SIGN}\"\"C = \",round(kelvin,2),u\"\\N{DEGREE SIGN}\"\"K\")    \n",
    "    return kelvin\n",
    "\n",
    "# Call function celcius to kelvin\n",
    "ctok(int(input(\"This function will convert celcius to kelvin \\nInsert \"u\"\\N{DEGREE SIGN}\"\"C = \")))"
   ]
  },
  {
   "cell_type": "markdown",
   "id": "a4eaf269",
   "metadata": {},
   "source": [
    "## Celcius to Fahrenheit"
   ]
  },
  {
   "cell_type": "code",
   "execution_count": 8,
   "id": "c481239f",
   "metadata": {},
   "outputs": [
    {
     "name": "stdout",
     "output_type": "stream",
     "text": [
      "This function will convert celcius to fahrenheit \n",
      "Insert °C = 300\n",
      "300 °C =  572.0 °F\n"
     ]
    },
    {
     "data": {
      "text/plain": [
       "572.0"
      ]
     },
     "execution_count": 8,
     "metadata": {},
     "output_type": "execute_result"
    }
   ],
   "source": [
    "# Function celcius to fahrenheit is here\n",
    "def ctof(celcius):\n",
    "    fahrenheit = (((9/5)*celcius)+32)\n",
    "    print(celcius,u\"\\N{DEGREE SIGN}\"\"C = \",round(fahrenheit,2),u\"\\N{DEGREE SIGN}\"\"F\") \n",
    "    return fahrenheit\n",
    "\n",
    "# Call function celcius to fahrenheit\n",
    "ctof(int(input(\"This function will convert celcius to fahrenheit \\nInsert \"u\"\\N{DEGREE SIGN}\"\"C = \")))"
   ]
  },
  {
   "cell_type": "markdown",
   "id": "6a327bce",
   "metadata": {},
   "source": [
    "## Fahrenheit to Celcius"
   ]
  },
  {
   "cell_type": "code",
   "execution_count": 9,
   "id": "b24f2fc8",
   "metadata": {},
   "outputs": [
    {
     "name": "stdout",
     "output_type": "stream",
     "text": [
      "This function will convert fahrenheit to celcius \n",
      "Insert °F = 300\n",
      "300 °F =  148.89 °C\n"
     ]
    },
    {
     "data": {
      "text/plain": [
       "300"
      ]
     },
     "execution_count": 9,
     "metadata": {},
     "output_type": "execute_result"
    }
   ],
   "source": [
    "# Function fahrenheit to celcius is here\n",
    "def ftoc(fahrenheit):\n",
    "    celcius = ((fahrenheit-32)*(5/9))\n",
    "    print(fahrenheit,u\"\\N{DEGREE SIGN}\"\"F = \",round(celcius,2),u\"\\N{DEGREE SIGN}\"\"C\") \n",
    "    return fahrenheit\n",
    "\n",
    "# Call function fahrenheit to celcius\n",
    "ftoc (int(input(\"This function will convert fahrenheit to celcius \\nInsert \"u\"\\N{DEGREE SIGN}\"\"F = \")))"
   ]
  },
  {
   "cell_type": "markdown",
   "id": "a793e8cd",
   "metadata": {},
   "source": [
    "## Kelvin to Fahrenheit"
   ]
  },
  {
   "cell_type": "code",
   "execution_count": 10,
   "id": "6332dda7",
   "metadata": {},
   "outputs": [
    {
     "name": "stdout",
     "output_type": "stream",
     "text": [
      "This function will convert Kelvin to Fahrenheit \n",
      "Insert °k = 300\n",
      "300 °K =  80.33 °F\n"
     ]
    },
    {
     "data": {
      "text/plain": [
       "80.33000000000004"
      ]
     },
     "execution_count": 10,
     "metadata": {},
     "output_type": "execute_result"
    }
   ],
   "source": [
    "# Function Kelvin to Fahrenheit is here\n",
    "def ktof(kelvin):\n",
    "    fahrenheit = ((kelvin-273.15)*(9/5)+(32))\n",
    "    print(kelvin,u\"\\N{DEGREE SIGN}\"\"K = \",round(fahrenheit,2),u\"\\N{DEGREE SIGN}\"\"F\") \n",
    "    return fahrenheit\n",
    "\n",
    "# Call function Kelvin to Fahrenheit\n",
    "ktof (int(input(\"This function will convert Kelvin to Fahrenheit \\nInsert \"u\"\\N{DEGREE SIGN}\"\"k = \")))"
   ]
  },
  {
   "cell_type": "markdown",
   "id": "a237613b",
   "metadata": {},
   "source": [
    "## Fahrenheit to Kelvin"
   ]
  },
  {
   "cell_type": "code",
   "execution_count": 11,
   "id": "ead5d132",
   "metadata": {},
   "outputs": [
    {
     "name": "stdout",
     "output_type": "stream",
     "text": [
      "This function will convert fahrenheit to kelvin \n",
      "Insert °F = 300\n",
      "300 °F =  422.04 °K\n"
     ]
    },
    {
     "data": {
      "text/plain": [
       "300"
      ]
     },
     "execution_count": 11,
     "metadata": {},
     "output_type": "execute_result"
    }
   ],
   "source": [
    "# Function fahrenheit to celcius is here\n",
    "def ftok(fahrenheit):\n",
    "    kelvin = ((fahrenheit-32)*(5/9)+273.15)\n",
    "    print(fahrenheit,u\"\\N{DEGREE SIGN}\"\"F = \",round(kelvin,2),u\"\\N{DEGREE SIGN}\"\"K\") \n",
    "    return fahrenheit\n",
    "\n",
    "# Call function fahrenheit to kelvin\n",
    "ftok (int(input(\"This function will convert fahrenheit to kelvin \\nInsert \"u\"\\N{DEGREE SIGN}\"\"F = \")))"
   ]
  },
  {
   "cell_type": "code",
   "execution_count": null,
   "id": "3c972649",
   "metadata": {},
   "outputs": [],
   "source": []
  }
 ],
 "metadata": {
  "kernelspec": {
   "display_name": "Python 3 (ipykernel)",
   "language": "python",
   "name": "python3"
  },
  "language_info": {
   "codemirror_mode": {
    "name": "ipython",
    "version": 3
   },
   "file_extension": ".py",
   "mimetype": "text/x-python",
   "name": "python",
   "nbconvert_exporter": "python",
   "pygments_lexer": "ipython3",
   "version": "3.9.7"
  }
 },
 "nbformat": 4,
 "nbformat_minor": 5
}
