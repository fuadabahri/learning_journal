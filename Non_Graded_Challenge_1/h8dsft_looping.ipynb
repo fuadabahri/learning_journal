{
 "cells": [
  {
   "cell_type": "code",
   "execution_count": 51,
   "metadata": {},
   "outputs": [
    {
     "name": "stdout",
     "output_type": "stream",
     "text": [
      "402 984 360 408 980 544 390 984 592 236 942 386 462 418 344 236 566 978 328 162 758 918 Done\n"
     ]
    }
   ],
   "source": [
    "numbers = [951, 402, 984, 651, 360, 69, 408, 319, 601, 485, 980, 507, 725, 547, 544, 615, 83, 165, 141, 501, 263, 617, 865, 575, 219, 390, 984, 592, 236, 105, 942, 941, 386, 462, 47, 418, 907, 344, 236, 375, 823, 566, 597, 978, 328, 615, 953, 345, 399, 162, 758, 219, 918, 237, 412, 566, 826, 248, 866, 950, 626, 949]\n",
    "for x in numbers:\n",
    "    if x != 237:\n",
    "        if x % 2 == 0:\n",
    "         print(x,end =\" \")\n",
    "    else:\n",
    "        break \n",
    "print(\"Done\")"
   ]
  },
  {
   "cell_type": "code",
   "execution_count": 52,
   "metadata": {},
   "outputs": [
    {
     "name": "stdout",
     "output_type": "stream",
     "text": [
      "402 984 360 408 980 544 390 984 592 236 942 386 462 418 344 236 566 978 328 162 758 918 Done\n"
     ]
    }
   ],
   "source": [
    "numbers = [951, 402, 984, 651, 360, 69, 408, 319, 601, 485, 980, 507, 725, 547, 544, 615, 83, 165, 141, 501, 263, 617, 865, 575, 219, 390, 984, 592, 236, 105, 942, 941, 386, 462, 47, 418, 907, 344, 236, 375, 823, 566, 597, 978, 328, 615, 953, 345, 399, 162, 758, 219, 918, 237, 412, 566, 826, 248, 866, 950, 626, 949]\n",
    "for x in numbers[0:53]:\n",
    "        if x % 2 == 0:\n",
    "         print(x,end =\" \")\n",
    "print(\"Done\")"
   ]
  }
 ],
 "metadata": {
  "interpreter": {
   "hash": "c48ff90ebefab8229bc294775a0f99cf54272a3c97bdaae80c53fbd61f7f2450"
  },
  "kernelspec": {
   "display_name": "Python 3.10.1 64-bit",
   "language": "python",
   "name": "python3"
  },
  "language_info": {
   "codemirror_mode": {
    "name": "ipython",
    "version": 3
   },
   "file_extension": ".py",
   "mimetype": "text/x-python",
   "name": "python",
   "nbconvert_exporter": "python",
   "pygments_lexer": "ipython3",
   "version": "3.10.1"
  },
  "orig_nbformat": 4
 },
 "nbformat": 4,
 "nbformat_minor": 2
}
