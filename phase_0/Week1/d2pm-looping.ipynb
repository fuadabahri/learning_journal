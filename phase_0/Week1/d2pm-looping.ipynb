{
 "cells": [
  {
   "cell_type": "code",
   "execution_count": null,
   "id": "a0fbaa8b",
   "metadata": {},
   "outputs": [],
   "source": [
    "angka = 9\n",
    "if angka > 10:\n",
    "    print(f\"{angka} lebih besar dari 10\")\n",
    "    print(\"ini masih di dalam kondisi if\")\n",
    "else:\n",
    "    print(f\"{angka} lebih kecil dari 10\")\n",
    "print(\"ini diluar if\")"
   ]
  },
  {
   "cell_type": "markdown",
   "id": "3de4f628",
   "metadata": {},
   "source": [
    "# Looping"
   ]
  },
  {
   "cell_type": "code",
   "execution_count": null,
   "id": "3bc13b41",
   "metadata": {},
   "outputs": [],
   "source": [
    "kali = 0\n",
    "while kali < 5:\n",
    "    kali = kali + 1\n",
    "    print(f\"Kali : {kali}\")\n",
    "    print(\"Halo Afif, apa kabar\")"
   ]
  },
  {
   "cell_type": "code",
   "execution_count": 1,
   "id": "24fb1cdd",
   "metadata": {},
   "outputs": [
    {
     "name": "stdout",
     "output_type": "stream",
     "text": [
      "Masukkan pesanan anda : mie goreng\n",
      "Masukkan pesanan anda : ayam goreng\n",
      "Masukkan pesanan anda : es jeruk\n",
      "Masukkan pesanan anda : cukup\n"
     ]
    }
   ],
   "source": [
    "list_makanan =[]\n",
    "makanan =''\n",
    "while makanan != 'cukup':\n",
    "    if makanan != '':\n",
    "        list_makanan.append(makanan)\n",
    "    makanan = input(\"Masukkan pesanan anda : \")"
   ]
  },
  {
   "cell_type": "code",
   "execution_count": 3,
   "id": "eabedb29",
   "metadata": {},
   "outputs": [
    {
     "data": {
      "text/plain": [
       "['mie goreng', 'ayam goreng', 'es jeruk']"
      ]
     },
     "execution_count": 3,
     "metadata": {},
     "output_type": "execute_result"
    }
   ],
   "source": [
    "list_makanan"
   ]
  },
  {
   "cell_type": "code",
   "execution_count": 5,
   "id": "6d159019",
   "metadata": {},
   "outputs": [
    {
     "name": "stdout",
     "output_type": "stream",
     "text": [
      "7 * 1 = 7\n"
     ]
    }
   ],
   "source": [
    "print(f\"{7} * {1} = {7*1}\")"
   ]
  },
  {
   "cell_type": "code",
   "execution_count": 14,
   "id": "6eb60105",
   "metadata": {},
   "outputs": [
    {
     "name": "stdout",
     "output_type": "stream",
     "text": [
      "7\n",
      "14\n",
      "21\n",
      "28\n",
      "35\n",
      "42\n",
      "49\n",
      "56\n",
      "63\n",
      "70\n"
     ]
    }
   ],
   "source": [
    "i = 1\n",
    "while i <= 10:\n",
    "    print(i*7)\n",
    "    i = i+1"
   ]
  },
  {
   "cell_type": "code",
   "execution_count": 26,
   "id": "8dc8c694",
   "metadata": {},
   "outputs": [
    {
     "name": "stdout",
     "output_type": "stream",
     "text": [
      "saya jual pepaya\n",
      "saya jual mangga\n",
      "saya jual pisang\n",
      "saya jual jambu\n"
     ]
    }
   ],
   "source": [
    "# for loop\n",
    "buahbuahan = (\"pepaya\", \"mangga\", \"pisang\", \"jambu\")\n",
    "for item in buahbuahan:\n",
    "    print(f\"saya jual {item}\")"
   ]
  },
  {
   "cell_type": "code",
   "execution_count": 33,
   "id": "0eb12df0",
   "metadata": {},
   "outputs": [
    {
     "name": "stdout",
     "output_type": "stream",
     "text": [
      "7 x 1 = 7\n",
      "7 x 2 = 14\n",
      "7 x 3 = 21\n",
      "7 x 4 = 28\n",
      "7 x 5 = 35\n",
      "7 x 6 = 42\n",
      "7 x 7 = 49\n",
      "7 x 8 = 56\n",
      "7 x 9 = 63\n"
     ]
    }
   ],
   "source": [
    "for i in range(1,10,1):\n",
    "    print(f\"{7} x {i} = {7*i}\")"
   ]
  },
  {
   "cell_type": "code",
   "execution_count": 37,
   "id": "6e4c620e",
   "metadata": {},
   "outputs": [
    {
     "name": "stdout",
     "output_type": "stream",
     "text": [
      "7 x 1 = 7\n",
      "7 x 2 = 14\n",
      "7 x 3 = 21\n",
      "7 x 4 = 28\n",
      "7 x 5 = 35\n",
      "7 x 6 = 42\n"
     ]
    }
   ],
   "source": [
    "# special keyword : break\n",
    "for i in range(1,10,1):\n",
    "    if i== 7:\n",
    "        break\n",
    "    print(f\"{7} x {i} = {7*i}\")"
   ]
  },
  {
   "cell_type": "code",
   "execution_count": 41,
   "id": "15cd9f61",
   "metadata": {},
   "outputs": [
    {
     "name": "stdout",
     "output_type": "stream",
     "text": [
      "7 x 1 = 7\n",
      "7 x 2 = 14\n",
      "7 x 3 = 21\n",
      "7 x 4 = 28\n",
      "7 x 5 = 35\n",
      "7 x 6 = 42\n",
      "7 x 7 = 49\n",
      "7 x 8 = 56\n",
      "7 x 9 = 63\n",
      "7 x 10 = 70\n"
     ]
    }
   ],
   "source": [
    "for i in range (1,11):\n",
    "    print(f\"{7} x {i} = {7*i}\")\n",
    "    if i== 7:\n",
    "        continue"
   ]
  },
  {
   "cell_type": "code",
   "execution_count": 42,
   "id": "e1b3d0ec",
   "metadata": {},
   "outputs": [],
   "source": [
    "from random import randint"
   ]
  },
  {
   "cell_type": "code",
   "execution_count": 43,
   "id": "0010a05b",
   "metadata": {},
   "outputs": [
    {
     "data": {
      "text/plain": [
       "9"
      ]
     },
     "execution_count": 43,
     "metadata": {},
     "output_type": "execute_result"
    }
   ],
   "source": [
    "randint(1,10)"
   ]
  },
  {
   "cell_type": "code",
   "execution_count": 54,
   "id": "c0a16ade",
   "metadata": {},
   "outputs": [
    {
     "name": "stdout",
     "output_type": "stream",
     "text": [
      "Masukan Tebakan Anda : 1\n",
      "Angka Terlalu Kecil\n",
      "Masukan Tebakan Anda : 1\n",
      "Angka Terlalu Kecil\n",
      "Masukan Tebakan Anda : 1\n",
      "Angka Terlalu Kecil\n",
      "Anda Kalah\n"
     ]
    }
   ],
   "source": [
    "angka_komputer = randint (1,10)\n",
    "angka_tebakan = 0\n",
    "kesempatan = 3\n",
    "while angka_tebakan != angka_komputer and kesempatan > 0:\n",
    "    angka_tebakan = input(\"Masukan Tebakan Anda : \")\n",
    "    angka_tebakan = int(angka_tebakan)\n",
    "    if angka_tebakan < angka_komputer:\n",
    "        print(\"Angka Terlalu Kecil\")\n",
    "        kesempatan-=1\n",
    "    elif angka_tebakan > angka_komputer:\n",
    "        print(\"Angka Terlalu Besar\")\n",
    "        kesempatan -= 1\n",
    "    else:\n",
    "        print(\"Selamat, anda menebak dengan benar\")\n",
    "        print(f\"Angka komputer adalah {angka_komputer}\")\n",
    "        print(f\"Anda punya {kesempatan-1} kesempatan tersisa\")\n",
    "    if kesempatan == 0:\n",
    "        print(\"Anda Kalah\")"
   ]
  },
  {
   "cell_type": "markdown",
   "id": "02a6685b",
   "metadata": {},
   "source": [
    "# "
   ]
  }
 ],
 "metadata": {
  "kernelspec": {
   "display_name": "Python 3 (ipykernel)",
   "language": "python",
   "name": "python3"
  },
  "language_info": {
   "codemirror_mode": {
    "name": "ipython",
    "version": 3
   },
   "file_extension": ".py",
   "mimetype": "text/x-python",
   "name": "python",
   "nbconvert_exporter": "python",
   "pygments_lexer": "ipython3",
   "version": "3.9.7"
  }
 },
 "nbformat": 4,
 "nbformat_minor": 5
}
